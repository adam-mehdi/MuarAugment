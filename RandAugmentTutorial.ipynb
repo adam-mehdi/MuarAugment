{
  "nbformat": 4,
  "nbformat_minor": 0,
  "metadata": {
    "colab": {
      "name": "RandAugmentTutorial.ipynb",
      "provenance": [],
      "authorship_tag": "ABX9TyNsswYoRd5I3maXcYN1OUvf",
      "include_colab_link": true
    },
    "kernelspec": {
      "name": "python3",
      "display_name": "Python 3"
    },
    "language_info": {
      "name": "python"
    },
    "accelerator": "GPU",
    "widgets": {
      "application/vnd.jupyter.widget-state+json": {
        "6682587066ee4cdabcb28388800e65c9": {
          "model_module": "@jupyter-widgets/controls",
          "model_name": "HBoxModel",
          "state": {
            "_view_name": "HBoxView",
            "_dom_classes": [],
            "_model_name": "HBoxModel",
            "_view_module": "@jupyter-widgets/controls",
            "_model_module_version": "1.5.0",
            "_view_count": null,
            "_view_module_version": "1.5.0",
            "box_style": "",
            "layout": "IPY_MODEL_6d1cc725de61499e99ad13040b747f6a",
            "_model_module": "@jupyter-widgets/controls",
            "children": [
              "IPY_MODEL_1a477851e35947a3abe7776731501fd9",
              "IPY_MODEL_c9b358a84a5945d4b41f7932e4adb85a"
            ]
          }
        },
        "6d1cc725de61499e99ad13040b747f6a": {
          "model_module": "@jupyter-widgets/base",
          "model_name": "LayoutModel",
          "state": {
            "_view_name": "LayoutView",
            "grid_template_rows": null,
            "right": null,
            "justify_content": null,
            "_view_module": "@jupyter-widgets/base",
            "overflow": null,
            "_model_module_version": "1.2.0",
            "_view_count": null,
            "flex_flow": "row wrap",
            "width": "100%",
            "min_width": null,
            "border": null,
            "align_items": null,
            "bottom": null,
            "_model_module": "@jupyter-widgets/base",
            "top": null,
            "grid_column": null,
            "overflow_y": null,
            "overflow_x": null,
            "grid_auto_flow": null,
            "grid_area": null,
            "grid_template_columns": null,
            "flex": null,
            "_model_name": "LayoutModel",
            "justify_items": null,
            "grid_row": null,
            "max_height": null,
            "align_content": null,
            "visibility": null,
            "align_self": null,
            "height": null,
            "min_height": null,
            "padding": null,
            "grid_auto_rows": null,
            "grid_gap": null,
            "max_width": null,
            "order": null,
            "_view_module_version": "1.2.0",
            "grid_template_areas": null,
            "object_position": null,
            "object_fit": null,
            "grid_auto_columns": null,
            "margin": null,
            "display": "inline-flex",
            "left": null
          }
        },
        "1a477851e35947a3abe7776731501fd9": {
          "model_module": "@jupyter-widgets/controls",
          "model_name": "FloatProgressModel",
          "state": {
            "_view_name": "ProgressView",
            "style": "IPY_MODEL_389662ab19c84c879a6d6c6f5e4f3550",
            "_dom_classes": [],
            "description": "Epoch 0: 100%",
            "_model_name": "FloatProgressModel",
            "bar_style": "success",
            "max": 2,
            "_view_module": "@jupyter-widgets/controls",
            "_model_module_version": "1.5.0",
            "value": 2,
            "_view_count": null,
            "_view_module_version": "1.5.0",
            "orientation": "horizontal",
            "min": 0,
            "description_tooltip": null,
            "_model_module": "@jupyter-widgets/controls",
            "layout": "IPY_MODEL_279cc75395b94abca5806e121b1b9423"
          }
        },
        "c9b358a84a5945d4b41f7932e4adb85a": {
          "model_module": "@jupyter-widgets/controls",
          "model_name": "HTMLModel",
          "state": {
            "_view_name": "HTMLView",
            "style": "IPY_MODEL_d01ef51d60c643c3b268b37c79f0861e",
            "_dom_classes": [],
            "description": "",
            "_model_name": "HTMLModel",
            "placeholder": "​",
            "_view_module": "@jupyter-widgets/controls",
            "_model_module_version": "1.5.0",
            "value": " 2/2 [00:00&lt;00:00,  2.17it/s, loss=2.3, v_num=]",
            "_view_count": null,
            "_view_module_version": "1.5.0",
            "description_tooltip": null,
            "_model_module": "@jupyter-widgets/controls",
            "layout": "IPY_MODEL_42eadc9862694eb3b659c53396d4659a"
          }
        },
        "389662ab19c84c879a6d6c6f5e4f3550": {
          "model_module": "@jupyter-widgets/controls",
          "model_name": "ProgressStyleModel",
          "state": {
            "_view_name": "StyleView",
            "_model_name": "ProgressStyleModel",
            "description_width": "initial",
            "_view_module": "@jupyter-widgets/base",
            "_model_module_version": "1.5.0",
            "_view_count": null,
            "_view_module_version": "1.2.0",
            "bar_color": null,
            "_model_module": "@jupyter-widgets/controls"
          }
        },
        "279cc75395b94abca5806e121b1b9423": {
          "model_module": "@jupyter-widgets/base",
          "model_name": "LayoutModel",
          "state": {
            "_view_name": "LayoutView",
            "grid_template_rows": null,
            "right": null,
            "justify_content": null,
            "_view_module": "@jupyter-widgets/base",
            "overflow": null,
            "_model_module_version": "1.2.0",
            "_view_count": null,
            "flex_flow": null,
            "width": null,
            "min_width": null,
            "border": null,
            "align_items": null,
            "bottom": null,
            "_model_module": "@jupyter-widgets/base",
            "top": null,
            "grid_column": null,
            "overflow_y": null,
            "overflow_x": null,
            "grid_auto_flow": null,
            "grid_area": null,
            "grid_template_columns": null,
            "flex": "2",
            "_model_name": "LayoutModel",
            "justify_items": null,
            "grid_row": null,
            "max_height": null,
            "align_content": null,
            "visibility": null,
            "align_self": null,
            "height": null,
            "min_height": null,
            "padding": null,
            "grid_auto_rows": null,
            "grid_gap": null,
            "max_width": null,
            "order": null,
            "_view_module_version": "1.2.0",
            "grid_template_areas": null,
            "object_position": null,
            "object_fit": null,
            "grid_auto_columns": null,
            "margin": null,
            "display": null,
            "left": null
          }
        },
        "d01ef51d60c643c3b268b37c79f0861e": {
          "model_module": "@jupyter-widgets/controls",
          "model_name": "DescriptionStyleModel",
          "state": {
            "_view_name": "StyleView",
            "_model_name": "DescriptionStyleModel",
            "description_width": "",
            "_view_module": "@jupyter-widgets/base",
            "_model_module_version": "1.5.0",
            "_view_count": null,
            "_view_module_version": "1.2.0",
            "_model_module": "@jupyter-widgets/controls"
          }
        },
        "42eadc9862694eb3b659c53396d4659a": {
          "model_module": "@jupyter-widgets/base",
          "model_name": "LayoutModel",
          "state": {
            "_view_name": "LayoutView",
            "grid_template_rows": null,
            "right": null,
            "justify_content": null,
            "_view_module": "@jupyter-widgets/base",
            "overflow": null,
            "_model_module_version": "1.2.0",
            "_view_count": null,
            "flex_flow": null,
            "width": null,
            "min_width": null,
            "border": null,
            "align_items": null,
            "bottom": null,
            "_model_module": "@jupyter-widgets/base",
            "top": null,
            "grid_column": null,
            "overflow_y": null,
            "overflow_x": null,
            "grid_auto_flow": null,
            "grid_area": null,
            "grid_template_columns": null,
            "flex": null,
            "_model_name": "LayoutModel",
            "justify_items": null,
            "grid_row": null,
            "max_height": null,
            "align_content": null,
            "visibility": null,
            "align_self": null,
            "height": null,
            "min_height": null,
            "padding": null,
            "grid_auto_rows": null,
            "grid_gap": null,
            "max_width": null,
            "order": null,
            "_view_module_version": "1.2.0",
            "grid_template_areas": null,
            "object_position": null,
            "object_fit": null,
            "grid_auto_columns": null,
            "margin": null,
            "display": null,
            "left": null
          }
        },
        "db4cbef9bda04b8ab7a0a78d7feb853e": {
          "model_module": "@jupyter-widgets/controls",
          "model_name": "HBoxModel",
          "state": {
            "_view_name": "HBoxView",
            "_dom_classes": [],
            "_model_name": "HBoxModel",
            "_view_module": "@jupyter-widgets/controls",
            "_model_module_version": "1.5.0",
            "_view_count": null,
            "_view_module_version": "1.5.0",
            "box_style": "",
            "layout": "IPY_MODEL_ae3a03ff2cab442e805602903b5a3fde",
            "_model_module": "@jupyter-widgets/controls",
            "children": [
              "IPY_MODEL_be5541718f2146c7b26c7de291eee136",
              "IPY_MODEL_a0ba054402da4cf3af482c2251450ba3"
            ]
          }
        },
        "ae3a03ff2cab442e805602903b5a3fde": {
          "model_module": "@jupyter-widgets/base",
          "model_name": "LayoutModel",
          "state": {
            "_view_name": "LayoutView",
            "grid_template_rows": null,
            "right": null,
            "justify_content": null,
            "_view_module": "@jupyter-widgets/base",
            "overflow": null,
            "_model_module_version": "1.2.0",
            "_view_count": null,
            "flex_flow": "row wrap",
            "width": "100%",
            "min_width": null,
            "border": null,
            "align_items": null,
            "bottom": null,
            "_model_module": "@jupyter-widgets/base",
            "top": null,
            "grid_column": null,
            "overflow_y": null,
            "overflow_x": null,
            "grid_auto_flow": null,
            "grid_area": null,
            "grid_template_columns": null,
            "flex": null,
            "_model_name": "LayoutModel",
            "justify_items": null,
            "grid_row": null,
            "max_height": null,
            "align_content": null,
            "visibility": null,
            "align_self": null,
            "height": null,
            "min_height": null,
            "padding": null,
            "grid_auto_rows": null,
            "grid_gap": null,
            "max_width": null,
            "order": null,
            "_view_module_version": "1.2.0",
            "grid_template_areas": null,
            "object_position": null,
            "object_fit": null,
            "grid_auto_columns": null,
            "margin": null,
            "display": "inline-flex",
            "left": null
          }
        },
        "be5541718f2146c7b26c7de291eee136": {
          "model_module": "@jupyter-widgets/controls",
          "model_name": "FloatProgressModel",
          "state": {
            "_view_name": "ProgressView",
            "style": "IPY_MODEL_b8ca75b0cef5440aba4fb2580d16cb70",
            "_dom_classes": [],
            "description": "Validating: 100%",
            "_model_name": "FloatProgressModel",
            "bar_style": "info",
            "max": 1,
            "_view_module": "@jupyter-widgets/controls",
            "_model_module_version": "1.5.0",
            "value": 1,
            "_view_count": null,
            "_view_module_version": "1.5.0",
            "orientation": "horizontal",
            "min": 0,
            "description_tooltip": null,
            "_model_module": "@jupyter-widgets/controls",
            "layout": "IPY_MODEL_ce023be80d0a4bcd9ce551c1581aa990"
          }
        },
        "a0ba054402da4cf3af482c2251450ba3": {
          "model_module": "@jupyter-widgets/controls",
          "model_name": "HTMLModel",
          "state": {
            "_view_name": "HTMLView",
            "style": "IPY_MODEL_e82028fe1daf402d8d605f461fd9e07f",
            "_dom_classes": [],
            "description": "",
            "_model_name": "HTMLModel",
            "placeholder": "​",
            "_view_module": "@jupyter-widgets/controls",
            "_model_module_version": "1.5.0",
            "value": " 1/1 [00:00&lt;00:00,  3.30it/s]",
            "_view_count": null,
            "_view_module_version": "1.5.0",
            "description_tooltip": null,
            "_model_module": "@jupyter-widgets/controls",
            "layout": "IPY_MODEL_54970ad3f2a84ae4afc1bb5073882305"
          }
        },
        "b8ca75b0cef5440aba4fb2580d16cb70": {
          "model_module": "@jupyter-widgets/controls",
          "model_name": "ProgressStyleModel",
          "state": {
            "_view_name": "StyleView",
            "_model_name": "ProgressStyleModel",
            "description_width": "initial",
            "_view_module": "@jupyter-widgets/base",
            "_model_module_version": "1.5.0",
            "_view_count": null,
            "_view_module_version": "1.2.0",
            "bar_color": null,
            "_model_module": "@jupyter-widgets/controls"
          }
        },
        "ce023be80d0a4bcd9ce551c1581aa990": {
          "model_module": "@jupyter-widgets/base",
          "model_name": "LayoutModel",
          "state": {
            "_view_name": "LayoutView",
            "grid_template_rows": null,
            "right": null,
            "justify_content": null,
            "_view_module": "@jupyter-widgets/base",
            "overflow": null,
            "_model_module_version": "1.2.0",
            "_view_count": null,
            "flex_flow": null,
            "width": null,
            "min_width": null,
            "border": null,
            "align_items": null,
            "bottom": null,
            "_model_module": "@jupyter-widgets/base",
            "top": null,
            "grid_column": null,
            "overflow_y": null,
            "overflow_x": null,
            "grid_auto_flow": null,
            "grid_area": null,
            "grid_template_columns": null,
            "flex": "2",
            "_model_name": "LayoutModel",
            "justify_items": null,
            "grid_row": null,
            "max_height": null,
            "align_content": null,
            "visibility": null,
            "align_self": null,
            "height": null,
            "min_height": null,
            "padding": null,
            "grid_auto_rows": null,
            "grid_gap": null,
            "max_width": null,
            "order": null,
            "_view_module_version": "1.2.0",
            "grid_template_areas": null,
            "object_position": null,
            "object_fit": null,
            "grid_auto_columns": null,
            "margin": null,
            "display": null,
            "left": null
          }
        },
        "e82028fe1daf402d8d605f461fd9e07f": {
          "model_module": "@jupyter-widgets/controls",
          "model_name": "DescriptionStyleModel",
          "state": {
            "_view_name": "StyleView",
            "_model_name": "DescriptionStyleModel",
            "description_width": "",
            "_view_module": "@jupyter-widgets/base",
            "_model_module_version": "1.5.0",
            "_view_count": null,
            "_view_module_version": "1.2.0",
            "_model_module": "@jupyter-widgets/controls"
          }
        },
        "54970ad3f2a84ae4afc1bb5073882305": {
          "model_module": "@jupyter-widgets/base",
          "model_name": "LayoutModel",
          "state": {
            "_view_name": "LayoutView",
            "grid_template_rows": null,
            "right": null,
            "justify_content": null,
            "_view_module": "@jupyter-widgets/base",
            "overflow": null,
            "_model_module_version": "1.2.0",
            "_view_count": null,
            "flex_flow": null,
            "width": null,
            "min_width": null,
            "border": null,
            "align_items": null,
            "bottom": null,
            "_model_module": "@jupyter-widgets/base",
            "top": null,
            "grid_column": null,
            "overflow_y": null,
            "overflow_x": null,
            "grid_auto_flow": null,
            "grid_area": null,
            "grid_template_columns": null,
            "flex": null,
            "_model_name": "LayoutModel",
            "justify_items": null,
            "grid_row": null,
            "max_height": null,
            "align_content": null,
            "visibility": null,
            "align_self": null,
            "height": null,
            "min_height": null,
            "padding": null,
            "grid_auto_rows": null,
            "grid_gap": null,
            "max_width": null,
            "order": null,
            "_view_module_version": "1.2.0",
            "grid_template_areas": null,
            "object_position": null,
            "object_fit": null,
            "grid_auto_columns": null,
            "margin": null,
            "display": null,
            "left": null
          }
        }
      }
    }
  },
  "cells": [
    {
      "cell_type": "markdown",
      "metadata": {
        "id": "view-in-github",
        "colab_type": "text"
      },
      "source": [
        "<a href=\"https://colab.research.google.com/github/adam-mehdi/MuarAugment/blob/master/RandAugmentTutorial.ipynb\" target=\"_parent\"><img src=\"https://colab.research.google.com/assets/colab-badge.svg\" alt=\"Open In Colab\"/></a>"
      ]
    },
    {
      "cell_type": "markdown",
      "metadata": {
        "id": "huPU_tsLd4rv"
      },
      "source": [
        "# Tutorial for `AlbumentationsRandAugment`"
      ]
    },
    {
      "cell_type": "markdown",
      "metadata": {
        "id": "n-zrJ7lud85g"
      },
      "source": [
        "`AlbumentationsRandAugment` is a straightforward implementation of [RandAugment](https://arxiv.org/abs/1909.13719?utm_source=feedburner&utm_medium=feed&utm_campaign=Feed%253A+arxiv%252FQSXk+%2528ExcitingAds%2521+cs+updates+on+arXiv.org%2529). Use it just like a list of transforms. I provide here an end-to-end pipeline for image classification in PyTorch Lightning, but if you are interested only in `AlbumentationRandAugment`, skip to section 2: 'Creating the RandAugment Dataset'. Let's begin! 🎇"
      ]
    },
    {
      "cell_type": "markdown",
      "metadata": {
        "id": "C9Mu9OLqeNG8"
      },
      "source": [
        "## 1. Install and import"
      ]
    },
    {
      "cell_type": "code",
      "metadata": {
        "id": "EuMCu7Tqdy2E"
      },
      "source": [
        "%%capture \n",
        "!pip install albumentations --upgrade\n",
        "!pip install timm\n",
        "!pip install pytorch-lightning\n",
        "!pip install git+https://github.com/adam-mehdi/MuarAugment.git"
      ],
      "execution_count": 1,
      "outputs": []
    },
    {
      "cell_type": "code",
      "metadata": {
        "colab": {
          "base_uri": "https://localhost:8080/"
        },
        "id": "srpVP8aedxC-",
        "outputId": "c377b92d-b80e-4dde-adb5-c08882c03af0"
      },
      "source": [
        "import os\n",
        "import numpy as np\n",
        "import pandas as pd\n",
        "from PIL import Image\n",
        "import matplotlib.pyplot as plt\n",
        "from sklearn.model_selection import StratifiedKFold\n",
        "\n",
        "import timm\n",
        "import albumentations as A\n",
        "from albumentations.pytorch import ToTensorV2\n",
        "\n",
        "import torch\n",
        "import torchvision\n",
        "from torch import nn\n",
        "import torch.nn.functional as F\n",
        "from torch.utils.data import Dataset, DataLoader\n",
        "\n",
        "import pytorch_lightning as pl\n",
        "\n",
        "from muar.augmentations import AlbumentationsRandAugment"
      ],
      "execution_count": 2,
      "outputs": [
        {
          "output_type": "stream",
          "text": [
            "/usr/local/lib/python3.7/dist-packages/kornia/augmentation/augmentation.py:1833: DeprecationWarning: GaussianBlur is no longer maintained and will be removed from the future versions. Please use RandomGaussianBlur instead.\n",
            "  category=DeprecationWarning,\n"
          ],
          "name": "stderr"
        }
      ]
    },
    {
      "cell_type": "markdown",
      "metadata": {
        "id": "0bPdL3wjeRLq"
      },
      "source": [
        "## 2. Creating the RandAugment Dataset"
      ]
    },
    {
      "cell_type": "markdown",
      "metadata": {
        "id": "IjihNPCF3RL4"
      },
      "source": [
        "We add RandAugment to the Dataset. Here's a simplified version of the algorithm:\n",
        "\n",
        "```python\n",
        "import numpy as np\n",
        "import albumentations as \n",
        "\n",
        "def rand_augment(N_TFMS, MAGN):\n",
        "    # initialize the transform list\n",
        "    transforms = [A.HorizontalFlip(p=1), \n",
        "                  A.Rotate(MAGN*9, p=1),  \n",
        "                  A.RandomBrightness(MAGN/20, p=1)]\n",
        "    # randomly choose `N_TFMS` transforms from the list\n",
        "    composition = np.random.choice(transforms, N_TFMS, replacement=False)   \n",
        "    return A.Compose(composition)\n",
        "```\n",
        "\n",
        "We initialize `AlbumentationsRandAugment` in the Dataset's `__init__` and call that object within `get_transform`. Each time we call the `rand_augment`, the object returns a different, randomly chosen list of transforms. We want to apply a different composition on each image, so we need to do that every time we get an item. We can implement that using `AlbumentationsRandAugment` as follows."
      ]
    },
    {
      "cell_type": "code",
      "metadata": {
        "id": "GPFRi20RcKln"
      },
      "source": [
        "class RandAugmentDataset(Dataset):\n",
        "    def __init__(self, data, stage='train', image_size=(28,28), N_TFMS=0, MAGN=0):\n",
        "        super().__init__()\n",
        "        self.images,self.labels = list(zip(*data))\n",
        "        self.stage, self.size = stage, image_size\n",
        "        self.N_TFMS, self.MAGN = N_TFMS, MAGN\n",
        "        if stage == 'train':\n",
        "            self.rand_augment = AlbumentationsRandAugment(N_TFMS, MAGN)\n",
        "        else: \n",
        "            self.rand_augment = None\n",
        "        \n",
        "    def __len__(self):\n",
        "        return len(self.labels)\n",
        "\n",
        "    def __getitem__(self, idx):\n",
        "        image,label = self.images[idx],self.labels[idx]\n",
        "        image = np.array(image)[:,:,None]\n",
        "        image = np.repeat(image, 3, axis=2) # image must be 3 channels\n",
        "        \n",
        "        transform = get_transform(self.rand_augment, self.stage, self.size)\n",
        "        augmented = transform(image=image)['image']\n",
        "        return augmented, torch.LongTensor([label])"
      ],
      "execution_count": 3,
      "outputs": []
    },
    {
      "cell_type": "code",
      "metadata": {
        "id": "faahUgFzcGoK"
      },
      "source": [
        "def get_transform(rand_augment, stage='train', size=(28,28)):\n",
        "    if stage == 'train':\n",
        "        resize_tfm = [A.Resize(*size)]\n",
        "        \n",
        "        rand_tfms = rand_augment() # returns a list of transforms\n",
        "\n",
        "        tensor_tfms = [A.Normalize(), ToTensorV2()]\n",
        "        return A.Compose(resize_tfm + rand_tfms + tensor_tfms)\n",
        "\n",
        "    elif stage=='valid':\n",
        "        resize_tfm = [A.Resize(*size)]\n",
        "        tensor_tfms = [A.Normalize(), ToTensorV2()]\n",
        "        return A.Compose(resize_tfm + tensor_tfms)"
      ],
      "execution_count": 5,
      "outputs": []
    },
    {
      "cell_type": "markdown",
      "metadata": {
        "id": "5VlbLHG8zYmq"
      },
      "source": [
        "## 3. Defining the Model"
      ]
    },
    {
      "cell_type": "markdown",
      "metadata": {
        "id": "lCHDI5h60Whb"
      },
      "source": [
        "A standard `LightningModule` with pretraining capacities."
      ]
    },
    {
      "cell_type": "code",
      "metadata": {
        "id": "vQazl0M1zcvz"
      },
      "source": [
        "# Backbone for transfer learning.\n",
        "class Backbone(pl.LightningModule):\n",
        "    def __init__(self, model_name='resnet18', pretrained=False):\n",
        "        super().__init__()\n",
        "        self.model = timm.create_model(model_name, pretrained=pretrained)\n",
        "        self.in_features = self.model.get_classifier().in_features\n",
        "        self.model.fc = nn.Identity()\n",
        "\n",
        "    def forward(self, x):\n",
        "        x = self.model(x)\n",
        "        return x\n",
        "\n",
        "class LitModule(pl.LightningModule):\n",
        "    def __init__(self, \n",
        "                 model_name: str,\n",
        "                 pretrained: bool,\n",
        "                 num_classes: int,\n",
        "                 lr: float\n",
        "                 ):\n",
        "        \n",
        "        super().__init__()\n",
        "        self.save_hyperparameters()\n",
        "\n",
        "        self.backbone = Backbone(model_name=model_name, pretrained=pretrained)\n",
        "        self.backbone.freeze()\n",
        "\n",
        "        self.fc = nn.Linear(self.backbone.in_features, num_classes)\n",
        "        self.metric = pl.metrics.F1(num_classes=num_classes)\n",
        "        self.criterion = nn.CrossEntropyLoss()\n",
        "        self.lr = lr\n",
        "\n",
        "    def forward(self, x):\n",
        "        x = self.backbone(x)\n",
        "        return self.fc(x)\n",
        "\n",
        "    def training_step(self, batch, batch_idx):\n",
        "        input,target = batch[0],batch[1].squeeze(1)\n",
        "\n",
        "        if self.current_epoch == 2: self.backbone.unfreeze()\n",
        "        output = self(input)\n",
        "        loss = self.criterion(output, target)\n",
        "        score = self.metric(output.argmax(1), target)\n",
        "\n",
        "        return loss\n",
        "\n",
        "    def validation_step(self, batch, batch_idx):\n",
        "        input,target = batch[0],batch[1].squeeze(1)\n",
        "\n",
        "        output = self(input)\n",
        "        loss = self.criterion(output, target)\n",
        "        score = self.metric(output.argmax(1), target)\n",
        "\n",
        "        return loss\n",
        "    \n",
        "    def configure_optimizers(self):\n",
        "        self.optimizer = torch.optim.Adam(self.parameters(), lr=self.hparams.lr)\n",
        "        return self.optimizer"
      ],
      "execution_count": 6,
      "outputs": []
    },
    {
      "cell_type": "markdown",
      "metadata": {
        "id": "-SvupStD0CSn"
      },
      "source": [
        "## 4. Training"
      ]
    },
    {
      "cell_type": "markdown",
      "metadata": {
        "id": "eTVTypus8Dwn"
      },
      "source": [
        "We're going to train on the FashionMNIST dataset, classifying what kind of apparel an image portrays."
      ]
    },
    {
      "cell_type": "code",
      "metadata": {
        "id": "qiWkmN3V2UQm"
      },
      "source": [
        "class cfg:\n",
        "    batch_size = 64\n",
        "    N_TFMS = 3\n",
        "    MAGN = 4\n",
        "    model_name = 'resnet18'\n",
        "    pretrained = False\n",
        "    num_classes = 10\n",
        "    lr = 3e-3\n",
        "    max_epochs = 20\n",
        "    precision = 16"
      ],
      "execution_count": 7,
      "outputs": []
    },
    {
      "cell_type": "code",
      "metadata": {
        "id": "EuQpz7yK2Lzv"
      },
      "source": [
        "%%capture\n",
        "train_data = torchvision.datasets.FashionMNIST('/content/', train=True, download=True)\n",
        "valid_data = torchvision.datasets.FashionMNIST('/content/', train=False, download=True)\n",
        "\n",
        "train_dataset = RandAugmentDataset(train_data, stage='train', N_TFMS=cfg.N_TFMS, MAGN=cfg.MAGN)\n",
        "valid_dataset = RandAugmentDataset(valid_data, stage='valid')\n",
        "\n",
        "train_loader = DataLoader(train_dataset, batch_size=cfg.batch_size, shuffle=True, num_workers=2, drop_last=True, pin_memory=True)\n",
        "valid_loader = DataLoader(valid_dataset, batch_size=cfg.batch_size, shuffle=False, num_workers=2, drop_last=True, pin_memory=True)"
      ],
      "execution_count": 8,
      "outputs": []
    },
    {
      "cell_type": "code",
      "metadata": {
        "colab": {
          "base_uri": "https://localhost:8080/"
        },
        "id": "DM661ZFF0DEi",
        "outputId": "9c04657f-7623-4b9d-c21c-c796590f59b9"
      },
      "source": [
        "model = LitModule(cfg.model_name, cfg.pretrained, cfg.num_classes, cfg.lr)"
      ],
      "execution_count": 9,
      "outputs": [
        {
          "output_type": "stream",
          "text": [
            "/usr/local/lib/python3.7/dist-packages/pytorch_lightning/utilities/distributed.py:69: DeprecationWarning: The `F1` was deprecated since v1.3.0 in favor of `torchmetrics.classification.f_beta.F1`. It will be removed in v1.5.0.\n",
            "  warnings.warn(*args, **kwargs)\n",
            "/usr/local/lib/python3.7/dist-packages/torchmetrics/utilities/__init__.py:14: DeprecationWarning: Argument `multilabel` was deprecated in v0.3 and will be removed in v0.4. Use `multiclass` instead.\n",
            "  DeprecationWarning\n"
          ],
          "name": "stderr"
        }
      ]
    },
    {
      "cell_type": "code",
      "metadata": {
        "colab": {
          "base_uri": "https://localhost:8080/"
        },
        "id": "KQech8mf3nx9",
        "outputId": "eb82bb40-9601-4d4f-f059-7e753ed558aa"
      },
      "source": [
        "trainer = pl.Trainer(gpus=1, precision=cfg.precision, max_epochs=cfg.max_epochs)"
      ],
      "execution_count": 14,
      "outputs": [
        {
          "output_type": "stream",
          "text": [
            "GPU available: True, used: True\n",
            "TPU available: False, using: 0 TPU cores\n",
            "Using native 16bit precision.\n",
            "Running in fast_dev_run mode: will run a full train, val and test loop using 1 batch(es).\n"
          ],
          "name": "stderr"
        }
      ]
    },
    {
      "cell_type": "code",
      "metadata": {
        "colab": {
          "base_uri": "https://localhost:8080/",
          "height": 346,
          "referenced_widgets": [
            "6682587066ee4cdabcb28388800e65c9",
            "6d1cc725de61499e99ad13040b747f6a",
            "1a477851e35947a3abe7776731501fd9",
            "c9b358a84a5945d4b41f7932e4adb85a",
            "389662ab19c84c879a6d6c6f5e4f3550",
            "279cc75395b94abca5806e121b1b9423",
            "d01ef51d60c643c3b268b37c79f0861e",
            "42eadc9862694eb3b659c53396d4659a",
            "db4cbef9bda04b8ab7a0a78d7feb853e",
            "ae3a03ff2cab442e805602903b5a3fde",
            "be5541718f2146c7b26c7de291eee136",
            "a0ba054402da4cf3af482c2251450ba3",
            "b8ca75b0cef5440aba4fb2580d16cb70",
            "ce023be80d0a4bcd9ce551c1581aa990",
            "e82028fe1daf402d8d605f461fd9e07f",
            "54970ad3f2a84ae4afc1bb5073882305"
          ]
        },
        "id": "JaVCuQOt3wDb",
        "outputId": "c935875f-ec78-4e27-d310-4788533d6643"
      },
      "source": [
        "trainer.fit(model, train_dataloader=train_loader, val_dataloaders=valid_loader)"
      ],
      "execution_count": 15,
      "outputs": [
        {
          "output_type": "stream",
          "text": [
            "/usr/local/lib/python3.7/dist-packages/pytorch_lightning/utilities/distributed.py:69: DeprecationWarning: The `LightningModule.datamodule` property is deprecated in v1.3 and will be removed in v1.5. Access the datamodule through using `self.trainer.datamodule` instead.\n",
            "  warnings.warn(*args, **kwargs)\n",
            "LOCAL_RANK: 0 - CUDA_VISIBLE_DEVICES: [0]\n",
            "\n",
            "  | Name      | Type             | Params\n",
            "-----------------------------------------------\n",
            "0 | backbone  | Backbone         | 11.2 M\n",
            "1 | fc        | Linear           | 5.1 K \n",
            "2 | metric    | F1               | 0     \n",
            "3 | criterion | CrossEntropyLoss | 0     \n",
            "-----------------------------------------------\n",
            "5.1 K     Trainable params\n",
            "11.2 M    Non-trainable params\n",
            "11.2 M    Total params\n",
            "44.727    Total estimated model params size (MB)\n"
          ],
          "name": "stderr"
        },
        {
          "output_type": "display_data",
          "data": {
            "application/vnd.jupyter.widget-view+json": {
              "model_id": "6682587066ee4cdabcb28388800e65c9",
              "version_minor": 0,
              "version_major": 2
            },
            "text/plain": [
              "HBox(children=(FloatProgress(value=1.0, bar_style='info', description='Training', layout=Layout(flex='2'), max…"
            ]
          },
          "metadata": {
            "tags": []
          }
        },
        {
          "output_type": "display_data",
          "data": {
            "application/vnd.jupyter.widget-view+json": {
              "model_id": "db4cbef9bda04b8ab7a0a78d7feb853e",
              "version_minor": 0,
              "version_major": 2
            },
            "text/plain": [
              "HBox(children=(FloatProgress(value=1.0, bar_style='info', description='Validating', layout=Layout(flex='2'), m…"
            ]
          },
          "metadata": {
            "tags": []
          }
        },
        {
          "output_type": "stream",
          "text": [
            "\n"
          ],
          "name": "stdout"
        }
      ]
    },
    {
      "cell_type": "code",
      "metadata": {
        "id": "fW9mITdH8s_s"
      },
      "source": [
        "# save model\n",
        "trainer.save_checkpoint(\"/content/image_classification_model.pt\")"
      ],
      "execution_count": 12,
      "outputs": []
    },
    {
      "cell_type": "markdown",
      "metadata": {
        "id": "bB77FSht8Y4e"
      },
      "source": [
        "I'll leave inspecting the performance for you! Thank you for your attention. (｡･∀･)ﾉﾞ"
      ]
    }
  ]
}